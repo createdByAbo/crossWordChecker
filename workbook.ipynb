{
 "cells": [
  {
   "cell_type": "code",
   "execution_count": 1,
   "metadata": {},
   "outputs": [],
   "source": [
    "import pandas as pd\n",
    "import numpy as np\n",
    "from tabulate import tabulate\n",
    "\n",
    "arr = np.array(pd.read_excel(\"letters.xlsx\", header=None, dtype=str))\n",
    "midware = np.tile(\"\", (len(arr), len(arr[0]))) \n",
    "result = np.tile(\"\", (len(arr), len(arr[0])))\n",
    "\n",
    "class result:\n",
    "  def __init__(self):\n",
    "      self.left = False,\n",
    "      self.right = False,\n",
    "      self.up = False,\n",
    "      self.down = False,\n",
    "      self.left_up = False,\n",
    "      self.left_down = False,\n",
    "      self.right_up = False,\n",
    "      self.right_down = False\n"
   ]
  },
  {
   "cell_type": "code",
   "execution_count": 2,
   "metadata": {},
   "outputs": [],
   "source": [
    "def getwordsfromuser():\n",
    "    islistfull = False\n",
    "    words = []\n",
    "    while islistfull == False:\n",
    "        word = input(\"input word   /s to stop   \")\n",
    "        if word == \"/s\":\n",
    "            islistfull = True\n",
    "        else:\n",
    "            words.append(word)\n",
    "    print(searchwords(arr, words))"
   ]
  },
  {
   "cell_type": "code",
   "execution_count": 11,
   "metadata": {},
   "outputs": [],
   "source": [
    "def searchwords(array, wordList):\n",
    "    for x in range(0, len(array[0]) - 1):\n",
    "        for y in range(0, len(array)):\n",
    "            for a in range(0, len(wordList)):\n",
    "                for b in range(0, len(wordList[a])):\n",
    "                    if array[x][y] == wordList[a][b]:\n",
    "                        midware[x][y] = wordList[a][b]\n",
    "                        if checkmoves(x,y).left == True and arr[x - 1][y] == wordList[a][b + 1]:\n",
    "                            midware[x - 1][y] = wordList[a][b + 1]\n",
    "                        #print(checkmoves(x,y).left_down)\n",
    "                        if checkmoves(x,y).left_down == True and arr[x]\n",
    "                        #print(checkmoves(x,y).left_up)\n",
    "                        #print(checkmoves(x,y).right)\n",
    "                        #print(checkmoves(x,y).right_down)\n",
    "                        #print(checkmoves(x,y).right_up)\n",
    "                        #print(checkmoves(x,y).up)\n",
    "                        #print(checkmoves(x,y).down)\n",
    "                        break\n",
    "                        \n",
    "    return midware"
   ]
  },
  {
   "cell_type": "code",
   "execution_count": 12,
   "metadata": {},
   "outputs": [
    {
     "ename": "IndexError",
     "evalue": "string index out of range",
     "output_type": "error",
     "traceback": [
      "\u001b[1;31m---------------------------------------------------------------------------\u001b[0m",
      "\u001b[1;31mIndexError\u001b[0m                                Traceback (most recent call last)",
      "\u001b[1;32m<ipython-input-12-81f5416835f8>\u001b[0m in \u001b[0;36m<module>\u001b[1;34m\u001b[0m\n\u001b[1;32m----> 1\u001b[1;33m \u001b[0mgetwordsfromuser\u001b[0m\u001b[1;33m(\u001b[0m\u001b[1;33m)\u001b[0m\u001b[1;33m\u001b[0m\u001b[1;33m\u001b[0m\u001b[0m\n\u001b[0m",
      "\u001b[1;32m<ipython-input-2-c43bf6cecfec>\u001b[0m in \u001b[0;36mgetwordsfromuser\u001b[1;34m()\u001b[0m\n\u001b[0;32m      8\u001b[0m         \u001b[1;32melse\u001b[0m\u001b[1;33m:\u001b[0m\u001b[1;33m\u001b[0m\u001b[1;33m\u001b[0m\u001b[0m\n\u001b[0;32m      9\u001b[0m             \u001b[0mwords\u001b[0m\u001b[1;33m.\u001b[0m\u001b[0mappend\u001b[0m\u001b[1;33m(\u001b[0m\u001b[0mword\u001b[0m\u001b[1;33m)\u001b[0m\u001b[1;33m\u001b[0m\u001b[1;33m\u001b[0m\u001b[0m\n\u001b[1;32m---> 10\u001b[1;33m     \u001b[0mprint\u001b[0m\u001b[1;33m(\u001b[0m\u001b[0msearchwords\u001b[0m\u001b[1;33m(\u001b[0m\u001b[0marr\u001b[0m\u001b[1;33m,\u001b[0m \u001b[0mwords\u001b[0m\u001b[1;33m)\u001b[0m\u001b[1;33m)\u001b[0m\u001b[1;33m\u001b[0m\u001b[1;33m\u001b[0m\u001b[0m\n\u001b[0m",
      "\u001b[1;32m<ipython-input-11-f64d48c9c85a>\u001b[0m in \u001b[0;36msearchwords\u001b[1;34m(array, wordList)\u001b[0m\n\u001b[0;32m      6\u001b[0m                     \u001b[1;32mif\u001b[0m \u001b[0marray\u001b[0m\u001b[1;33m[\u001b[0m\u001b[0mx\u001b[0m\u001b[1;33m]\u001b[0m\u001b[1;33m[\u001b[0m\u001b[0my\u001b[0m\u001b[1;33m]\u001b[0m \u001b[1;33m==\u001b[0m \u001b[0mwordList\u001b[0m\u001b[1;33m[\u001b[0m\u001b[0ma\u001b[0m\u001b[1;33m]\u001b[0m\u001b[1;33m[\u001b[0m\u001b[0mb\u001b[0m\u001b[1;33m]\u001b[0m\u001b[1;33m:\u001b[0m\u001b[1;33m\u001b[0m\u001b[1;33m\u001b[0m\u001b[0m\n\u001b[0;32m      7\u001b[0m                         \u001b[0mmidware\u001b[0m\u001b[1;33m[\u001b[0m\u001b[0mx\u001b[0m\u001b[1;33m]\u001b[0m\u001b[1;33m[\u001b[0m\u001b[0my\u001b[0m\u001b[1;33m]\u001b[0m \u001b[1;33m=\u001b[0m \u001b[0mwordList\u001b[0m\u001b[1;33m[\u001b[0m\u001b[0ma\u001b[0m\u001b[1;33m]\u001b[0m\u001b[1;33m[\u001b[0m\u001b[0mb\u001b[0m\u001b[1;33m]\u001b[0m\u001b[1;33m\u001b[0m\u001b[1;33m\u001b[0m\u001b[0m\n\u001b[1;32m----> 8\u001b[1;33m                         \u001b[1;32mif\u001b[0m \u001b[0mcheckmoves\u001b[0m\u001b[1;33m(\u001b[0m\u001b[0mx\u001b[0m\u001b[1;33m,\u001b[0m\u001b[0my\u001b[0m\u001b[1;33m)\u001b[0m\u001b[1;33m.\u001b[0m\u001b[0mleft\u001b[0m \u001b[1;33m==\u001b[0m \u001b[1;32mTrue\u001b[0m \u001b[1;32mand\u001b[0m \u001b[0marr\u001b[0m\u001b[1;33m[\u001b[0m\u001b[0mx\u001b[0m \u001b[1;33m-\u001b[0m \u001b[1;36m1\u001b[0m\u001b[1;33m]\u001b[0m\u001b[1;33m[\u001b[0m\u001b[0my\u001b[0m\u001b[1;33m]\u001b[0m \u001b[1;33m==\u001b[0m \u001b[0mwordList\u001b[0m\u001b[1;33m[\u001b[0m\u001b[0ma\u001b[0m\u001b[1;33m]\u001b[0m\u001b[1;33m[\u001b[0m\u001b[0mb\u001b[0m \u001b[1;33m+\u001b[0m \u001b[1;36m1\u001b[0m\u001b[1;33m]\u001b[0m\u001b[1;33m:\u001b[0m\u001b[1;33m\u001b[0m\u001b[1;33m\u001b[0m\u001b[0m\n\u001b[0m\u001b[0;32m      9\u001b[0m                             \u001b[0mmidware\u001b[0m\u001b[1;33m[\u001b[0m\u001b[0mx\u001b[0m \u001b[1;33m-\u001b[0m \u001b[1;36m1\u001b[0m\u001b[1;33m]\u001b[0m\u001b[1;33m[\u001b[0m\u001b[0my\u001b[0m\u001b[1;33m]\u001b[0m \u001b[1;33m=\u001b[0m \u001b[0mwordList\u001b[0m\u001b[1;33m[\u001b[0m\u001b[0ma\u001b[0m\u001b[1;33m]\u001b[0m\u001b[1;33m[\u001b[0m\u001b[0mb\u001b[0m \u001b[1;33m+\u001b[0m \u001b[1;36m1\u001b[0m\u001b[1;33m]\u001b[0m\u001b[1;33m\u001b[0m\u001b[1;33m\u001b[0m\u001b[0m\n\u001b[0;32m     10\u001b[0m                         \u001b[1;31m#print(checkmoves(x,y).left_down)\u001b[0m\u001b[1;33m\u001b[0m\u001b[1;33m\u001b[0m\u001b[1;33m\u001b[0m\u001b[0m\n",
      "\u001b[1;31mIndexError\u001b[0m: string index out of range"
     ]
    }
   ],
   "source": [
    "getwordsfromuser()"
   ]
  },
  {
   "cell_type": "code",
   "execution_count": 13,
   "metadata": {},
   "outputs": [],
   "source": [
    "def writeresult(result, file):\n",
    "  writer = pd.ExcelWriter(file)\n",
    "  pd.DataFrame(result).to_excel(writer, header=False, index=False)\n",
    "  writer.save()"
   ]
  },
  {
   "cell_type": "code",
   "execution_count": 14,
   "metadata": {},
   "outputs": [],
   "source": [
    "def checkmoves(x,y):\n",
    "  res = result()\n",
    "\n",
    "  if x - 1 >= 0:\n",
    "    res.left = True\n",
    "  if x + 1 <= (len(arr[0]) - 1):\n",
    "    res.right = True\n",
    "  \n",
    "  if y - 1 >= 0:\n",
    "    res.up = True\n",
    "  if y + 1 <= (len(arr) - 1):\n",
    "    res.down = True\n",
    "\n",
    "  if (x - 1 >= 0 and \n",
    "      y - 1 >= 0):\n",
    "    res.left_up = True\n",
    "  if (x - 1 >= 0 and \n",
    "      y + 1 <= (len(arr[0]) - 1)):\n",
    "    res.left_down = True\n",
    "\n",
    "  if (x + 1 <= (len(arr[0]) - 1) and \n",
    "      y - 1 >= 0):\n",
    "    res.right_up = True\n",
    "  if (x + 1 <= (len(arr[0]) - 1) \n",
    "      and y + 1 <= (len(arr) - 1)):\n",
    "    res.right_down = True\n",
    "\n",
    "  return res"
   ]
  },
  {
   "cell_type": "code",
   "execution_count": 15,
   "metadata": {},
   "outputs": [
    {
     "data": {
      "text/plain": [
       "<__main__.result at 0x203974cfc10>"
      ]
     },
     "execution_count": 15,
     "metadata": {},
     "output_type": "execute_result"
    }
   ],
   "source": [
    "checkmoves(1,1)"
   ]
  },
  {
   "cell_type": "code",
   "execution_count": null,
   "metadata": {},
   "outputs": [],
   "source": []
  }
 ],
 "metadata": {
  "interpreter": {
   "hash": "9cc273a5df71486cc71a39a261bf6d82d026507ff1b51fa9f8def4a2173a39cc"
  },
  "kernelspec": {
   "display_name": "Python 3.8.8 64-bit ('base': conda)",
   "language": "python",
   "name": "python3"
  },
  "language_info": {
   "codemirror_mode": {
    "name": "ipython",
    "version": 3
   },
   "file_extension": ".py",
   "mimetype": "text/x-python",
   "name": "python",
   "nbconvert_exporter": "python",
   "pygments_lexer": "ipython3",
   "version": "3.8.8"
  },
  "orig_nbformat": 4
 },
 "nbformat": 4,
 "nbformat_minor": 2
}

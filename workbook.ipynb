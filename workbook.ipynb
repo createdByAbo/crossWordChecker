{
 "cells": [
  {
   "cell_type": "code",
   "execution_count": 107,
   "metadata": {},
   "outputs": [],
   "source": [
    "import pandas as pd\n",
    "import numpy as np\n",
    "from tabulate import tabulate\n",
    "\n",
    "arr = np.array(pd.read_excel(\"letters.xlsx\", header=None, dtype=str))\n",
    "midware = np.tile(\"\", (len(arr), len(arr[0]))) \n",
    "result = np.tile(\"\", (len(arr), len(arr[0])))\n",
    "\n",
    "class result:\n",
    "  def __init__(self):\n",
    "      self.left = False,\n",
    "      self.right = False,\n",
    "      self.up = False,\n",
    "      self.down = False,\n",
    "      self.left_up = False,\n",
    "      self.left_down = False,\n",
    "      self.right_up = False,\n",
    "      self.right_down = False\n"
   ]
  },
  {
   "cell_type": "code",
   "execution_count": 2,
   "metadata": {},
   "outputs": [],
   "source": [
    "def getwordsfromuser():\n",
    "    islistfull = False\n",
    "    words = []\n",
    "    while islistfull == False:\n",
    "        word = input(\"input word   /s to stop   \")\n",
    "        if word == \"/s\":\n",
    "            islistfull = True\n",
    "        else:\n",
    "            words.append(word)\n",
    "    print(words)\n",
    "    print(searchwords(arr, words))"
   ]
  },
  {
   "cell_type": "code",
   "execution_count": 3,
   "metadata": {},
   "outputs": [],
   "source": [
    "def searchwords(array, wordList):\n",
    "    for x in range(0, len(array[0]) - 1):\n",
    "        for y in range(0, len(array)):\n",
    "            for a in range(0, len(wordList)):\n",
    "                for b in range(0, len(wordList[a])):\n",
    "                    if array[x][y] == wordList[a][b]:\n",
    "                        print(x, y, wordList[a][b], array[x][y])\n",
    "                        midware[x][y] = wordList[a][b]\n",
    "                        break\n",
    "                        \n",
    "    return midware"
   ]
  },
  {
   "cell_type": "code",
   "execution_count": 4,
   "metadata": {},
   "outputs": [
    {
     "name": "stdout",
     "output_type": "stream",
     "text": [
      "['vertical']\n",
      "0 1 v v\n",
      "0 2 e e\n",
      "0 3 r r\n",
      "0 4 t t\n",
      "0 5 i i\n",
      "0 6 c c\n",
      "0 7 a a\n",
      "0 8 l l\n",
      "1 0 r r\n",
      "1 3 a a\n",
      "1 6 l l\n",
      "1 8 a a\n",
      "2 0 a a\n",
      "2 1 c c\n",
      "2 2 r r\n",
      "2 3 i i\n",
      "2 4 l l\n",
      "2 5 i i\n",
      "2 6 a a\n",
      "2 7 t t\n",
      "4 1 r r\n",
      "4 3 e e\n",
      "5 1 e e\n",
      "5 2 e e\n",
      "5 5 e e\n",
      "5 7 l l\n",
      "5 8 i i\n",
      "6 2 i i\n",
      "6 3 i i\n",
      "6 6 a a\n",
      "6 7 e e\n",
      "6 8 r r\n",
      "7 0 a a\n",
      "7 1 l l\n",
      "7 2 r r\n",
      "7 4 r r\n",
      "7 5 r r\n",
      "7 6 i i\n",
      "7 7 r r\n",
      "7 8 e e\n",
      "8 1 e e\n",
      "8 2 l l\n",
      "8 5 l l\n",
      "8 6 e e\n",
      "8 8 t t\n"
     ]
    },
    {
     "ename": "IndexError",
     "evalue": "index 9 is out of bounds for axis 0 with size 9",
     "output_type": "error",
     "traceback": [
      "\u001b[1;31m---------------------------------------------------------------------------\u001b[0m",
      "\u001b[1;31mIndexError\u001b[0m                                Traceback (most recent call last)",
      "\u001b[1;32m<ipython-input-4-81f5416835f8>\u001b[0m in \u001b[0;36m<module>\u001b[1;34m\u001b[0m\n\u001b[1;32m----> 1\u001b[1;33m \u001b[0mgetwordsfromuser\u001b[0m\u001b[1;33m(\u001b[0m\u001b[1;33m)\u001b[0m\u001b[1;33m\u001b[0m\u001b[1;33m\u001b[0m\u001b[0m\n\u001b[0m",
      "\u001b[1;32m<ipython-input-2-d0d7cc555087>\u001b[0m in \u001b[0;36mgetwordsfromuser\u001b[1;34m()\u001b[0m\n\u001b[0;32m      9\u001b[0m             \u001b[0mwords\u001b[0m\u001b[1;33m.\u001b[0m\u001b[0mappend\u001b[0m\u001b[1;33m(\u001b[0m\u001b[0mword\u001b[0m\u001b[1;33m)\u001b[0m\u001b[1;33m\u001b[0m\u001b[1;33m\u001b[0m\u001b[0m\n\u001b[0;32m     10\u001b[0m     \u001b[0mprint\u001b[0m\u001b[1;33m(\u001b[0m\u001b[0mwords\u001b[0m\u001b[1;33m)\u001b[0m\u001b[1;33m\u001b[0m\u001b[1;33m\u001b[0m\u001b[0m\n\u001b[1;32m---> 11\u001b[1;33m     \u001b[0mprint\u001b[0m\u001b[1;33m(\u001b[0m\u001b[0msearchwords\u001b[0m\u001b[1;33m(\u001b[0m\u001b[0marr\u001b[0m\u001b[1;33m,\u001b[0m \u001b[0mwords\u001b[0m\u001b[1;33m)\u001b[0m\u001b[1;33m)\u001b[0m\u001b[1;33m\u001b[0m\u001b[1;33m\u001b[0m\u001b[0m\n\u001b[0m",
      "\u001b[1;32m<ipython-input-3-452126041729>\u001b[0m in \u001b[0;36msearchwords\u001b[1;34m(array, wordList)\u001b[0m\n\u001b[0;32m      4\u001b[0m             \u001b[1;32mfor\u001b[0m \u001b[0ma\u001b[0m \u001b[1;32min\u001b[0m \u001b[0mrange\u001b[0m\u001b[1;33m(\u001b[0m\u001b[1;36m0\u001b[0m\u001b[1;33m,\u001b[0m \u001b[0mlen\u001b[0m\u001b[1;33m(\u001b[0m\u001b[0mwordList\u001b[0m\u001b[1;33m)\u001b[0m\u001b[1;33m)\u001b[0m\u001b[1;33m:\u001b[0m\u001b[1;33m\u001b[0m\u001b[1;33m\u001b[0m\u001b[0m\n\u001b[0;32m      5\u001b[0m                 \u001b[1;32mfor\u001b[0m \u001b[0mb\u001b[0m \u001b[1;32min\u001b[0m \u001b[0mrange\u001b[0m\u001b[1;33m(\u001b[0m\u001b[1;36m0\u001b[0m\u001b[1;33m,\u001b[0m \u001b[0mlen\u001b[0m\u001b[1;33m(\u001b[0m\u001b[0mwordList\u001b[0m\u001b[1;33m[\u001b[0m\u001b[0ma\u001b[0m\u001b[1;33m]\u001b[0m\u001b[1;33m)\u001b[0m\u001b[1;33m)\u001b[0m\u001b[1;33m:\u001b[0m\u001b[1;33m\u001b[0m\u001b[1;33m\u001b[0m\u001b[0m\n\u001b[1;32m----> 6\u001b[1;33m                     \u001b[1;32mif\u001b[0m \u001b[0marray\u001b[0m\u001b[1;33m[\u001b[0m\u001b[0mx\u001b[0m\u001b[1;33m]\u001b[0m\u001b[1;33m[\u001b[0m\u001b[0my\u001b[0m\u001b[1;33m]\u001b[0m \u001b[1;33m==\u001b[0m \u001b[0mwordList\u001b[0m\u001b[1;33m[\u001b[0m\u001b[0ma\u001b[0m\u001b[1;33m]\u001b[0m\u001b[1;33m[\u001b[0m\u001b[0mb\u001b[0m\u001b[1;33m]\u001b[0m\u001b[1;33m:\u001b[0m\u001b[1;33m\u001b[0m\u001b[1;33m\u001b[0m\u001b[0m\n\u001b[0m\u001b[0;32m      7\u001b[0m                         \u001b[0mprint\u001b[0m\u001b[1;33m(\u001b[0m\u001b[0mx\u001b[0m\u001b[1;33m,\u001b[0m \u001b[0my\u001b[0m\u001b[1;33m,\u001b[0m \u001b[0mwordList\u001b[0m\u001b[1;33m[\u001b[0m\u001b[0ma\u001b[0m\u001b[1;33m]\u001b[0m\u001b[1;33m[\u001b[0m\u001b[0mb\u001b[0m\u001b[1;33m]\u001b[0m\u001b[1;33m,\u001b[0m \u001b[0marray\u001b[0m\u001b[1;33m[\u001b[0m\u001b[0mx\u001b[0m\u001b[1;33m]\u001b[0m\u001b[1;33m[\u001b[0m\u001b[0my\u001b[0m\u001b[1;33m]\u001b[0m\u001b[1;33m)\u001b[0m\u001b[1;33m\u001b[0m\u001b[1;33m\u001b[0m\u001b[0m\n\u001b[0;32m      8\u001b[0m                         \u001b[0mmidware\u001b[0m\u001b[1;33m[\u001b[0m\u001b[0mx\u001b[0m\u001b[1;33m]\u001b[0m\u001b[1;33m[\u001b[0m\u001b[0my\u001b[0m\u001b[1;33m]\u001b[0m \u001b[1;33m=\u001b[0m \u001b[0mwordList\u001b[0m\u001b[1;33m[\u001b[0m\u001b[0ma\u001b[0m\u001b[1;33m]\u001b[0m\u001b[1;33m[\u001b[0m\u001b[0mb\u001b[0m\u001b[1;33m]\u001b[0m\u001b[1;33m\u001b[0m\u001b[1;33m\u001b[0m\u001b[0m\n",
      "\u001b[1;31mIndexError\u001b[0m: index 9 is out of bounds for axis 0 with size 9"
     ]
    }
   ],
   "source": [
    "getwordsfromuser()"
   ]
  },
  {
   "cell_type": "code",
   "execution_count": null,
   "metadata": {},
   "outputs": [],
   "source": [
    "def writeresult(result, file):\n",
    "  writer = pd.ExcelWriter(file)\n",
    "  pd.DataFrame(result).to_excel(writer, header=False, index=False)\n",
    "  writer.save()"
   ]
  },
  {
   "cell_type": "code",
   "execution_count": 111,
   "metadata": {},
   "outputs": [],
   "source": [
    "def checkmoves(x,y):\n",
    "  res = result()\n",
    "\n",
    "  if x - 1 >= 0:\n",
    "    res.left = True\n",
    "  if x + 1 <= (len(arr[0]) - 1):\n",
    "    res.right = True\n",
    "  \n",
    "  if y - 1 >= 0:\n",
    "    res.up = True\n",
    "  if y + 1 <= (len(arr) - 1):\n",
    "    res.down = True\n",
    "\n",
    "  if (x - 1 >= 0 and \n",
    "      y - 1 >= 0):\n",
    "    res.left_up = True\n",
    "  if (x - 1 >= 0 and \n",
    "      y + 1 <= (len(arr[0]) - 1)):\n",
    "    res.left_down = True\n",
    "\n",
    "  if (x + 1 <= (len(arr[0]) - 1) and \n",
    "      y - 1 >= 0):\n",
    "    res.right_up = True\n",
    "  if (x + 1 <= (len(arr[0]) - 1) \n",
    "      and y + 1 <= (len(arr) - 1)):\n",
    "    res.right_down = True\n",
    "  \n",
    "  return res"
   ]
  },
  {
   "cell_type": "code",
   "execution_count": 112,
   "metadata": {},
   "outputs": [
    {
     "data": {
      "text/plain": [
       "__main__.result"
      ]
     },
     "execution_count": 112,
     "metadata": {},
     "output_type": "execute_result"
    }
   ],
   "source": [
    "checkmoves(1,1)"
   ]
  },
  {
   "cell_type": "code",
   "execution_count": null,
   "metadata": {},
   "outputs": [],
   "source": []
  }
 ],
 "metadata": {
  "interpreter": {
   "hash": "9cc273a5df71486cc71a39a261bf6d82d026507ff1b51fa9f8def4a2173a39cc"
  },
  "kernelspec": {
   "display_name": "Python 3.8.8 64-bit ('base': conda)",
   "language": "python",
   "name": "python3"
  },
  "language_info": {
   "codemirror_mode": {
    "name": "ipython",
    "version": 3
   },
   "file_extension": ".py",
   "mimetype": "text/x-python",
   "name": "python",
   "nbconvert_exporter": "python",
   "pygments_lexer": "ipython3",
   "version": "3.8.8"
  },
  "orig_nbformat": 4
 },
 "nbformat": 4,
 "nbformat_minor": 2
}
